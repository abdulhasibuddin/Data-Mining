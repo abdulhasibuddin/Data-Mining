{
 "cells": [
  {
   "cell_type": "code",
   "execution_count": 1,
   "metadata": {},
   "outputs": [],
   "source": [
    "from timeit import default_timer as timer\n",
    "start = timer()"
   ]
  },
  {
   "cell_type": "code",
   "execution_count": 2,
   "metadata": {},
   "outputs": [],
   "source": [
    "from openpyxl import Workbook\n",
    "from openpyxl import load_workbook\n",
    "from numba import vectorize\n",
    "import numpy as np"
   ]
  },
  {
   "cell_type": "code",
   "execution_count": 3,
   "metadata": {},
   "outputs": [],
   "source": [
    "wb_query = Workbook()"
   ]
  },
  {
   "cell_type": "code",
   "execution_count": 4,
   "metadata": {},
   "outputs": [],
   "source": [
    "path = 'D:\\EDUCATION\\Data Mining\\\\query_database.xlsx'"
   ]
  },
  {
   "cell_type": "code",
   "execution_count": 5,
   "metadata": {},
   "outputs": [],
   "source": [
    "wb_query = load_workbook(path)"
   ]
  },
  {
   "cell_type": "code",
   "execution_count": 6,
   "metadata": {},
   "outputs": [],
   "source": [
    "ws_query = wb_query.active"
   ]
  },
  {
   "cell_type": "code",
   "execution_count": 7,
   "metadata": {},
   "outputs": [],
   "source": [
    "query_tuple_cells = ws_query['A']"
   ]
  },
  {
   "cell_type": "code",
   "execution_count": 8,
   "metadata": {},
   "outputs": [
    {
     "name": "stdout",
     "output_type": "stream",
     "text": [
      "Total no of query data = 10\n"
     ]
    }
   ],
   "source": [
    "query_labels = []\n",
    "for cell_num in range(1, len(query_tuple_cells)+1):\n",
    "    current_cell = 'A'+str(cell_num)\n",
    "    query_labels.append(ws_query[current_cell].value)\n",
    "\n",
    "num_query_data = len(query_labels)\n",
    "print('Total no of query data =', num_query_data)"
   ]
  },
  {
   "cell_type": "code",
   "execution_count": 9,
   "metadata": {},
   "outputs": [
    {
     "name": "stdout",
     "output_type": "stream",
     "text": [
      "['p', 'e', 'p', 'p', 'p', 'e', 'e', 'e', 'p', 'e']\n"
     ]
    }
   ],
   "source": [
    "print(query_labels)"
   ]
  },
  {
   "cell_type": "code",
   "execution_count": 10,
   "metadata": {},
   "outputs": [],
   "source": [
    "wb_training = Workbook()"
   ]
  },
  {
   "cell_type": "code",
   "execution_count": 11,
   "metadata": {},
   "outputs": [],
   "source": [
    "path = 'D:\\EDUCATION\\Data Mining\\\\training_database.xlsx'"
   ]
  },
  {
   "cell_type": "code",
   "execution_count": 12,
   "metadata": {},
   "outputs": [],
   "source": [
    "wb_training = load_workbook(path)"
   ]
  },
  {
   "cell_type": "code",
   "execution_count": 13,
   "metadata": {},
   "outputs": [],
   "source": [
    "ws_training = wb_training.active"
   ]
  },
  {
   "cell_type": "code",
   "execution_count": 14,
   "metadata": {},
   "outputs": [],
   "source": [
    "training_tuple_cells = ws_training['A']\n",
    "#print(tuple_cells)"
   ]
  },
  {
   "cell_type": "code",
   "execution_count": 15,
   "metadata": {},
   "outputs": [
    {
     "name": "stdout",
     "output_type": "stream",
     "text": [
      "Total no of data = 8115\n"
     ]
    }
   ],
   "source": [
    "training_labels = []\n",
    "for cell_num in range(1, len(training_tuple_cells)+1):\n",
    "    current_cell = 'A'+str(cell_num)\n",
    "    training_labels.append(ws_training[current_cell].value)\n",
    "\n",
    "num_training_data = len(training_labels)\n",
    "print('Total no of data =', num_training_data)\n",
    "#print('training_labels =', training_labels)"
   ]
  },
  {
   "cell_type": "code",
   "execution_count": 16,
   "metadata": {},
   "outputs": [
    {
     "name": "stdout",
     "output_type": "stream",
     "text": [
      "Total no. of features = 22\n"
     ]
    }
   ],
   "source": [
    "num_features = len(list(ws_training.rows)[0]) - 1\n",
    "print('Total no. of features =', num_features)"
   ]
  },
  {
   "cell_type": "code",
   "execution_count": 17,
   "metadata": {},
   "outputs": [
    {
     "name": "stdout",
     "output_type": "stream",
     "text": [
      "23\n",
      "23\n"
     ]
    }
   ],
   "source": [
    "query_numpy_array = np.zeros(shape=(num_query_data, num_features+1), dtype=np.float32)\n",
    "query_data = list(ws_query.rows)\n",
    "\n",
    "print(len(query_numpy_array[0]))\n",
    "print(len(query_data[0]))"
   ]
  },
  {
   "cell_type": "code",
   "execution_count": 18,
   "metadata": {},
   "outputs": [
    {
     "name": "stdout",
     "output_type": "stream",
     "text": [
      "(10, 22)\n"
     ]
    }
   ],
   "source": [
    "for i in range(len(query_data)):\n",
    "    #print('i=',i)\n",
    "    for j in range(len(query_data[i])):\n",
    "        #print('j=',j)\n",
    "        #print('f=',float(ord(query_data[i][j].value)))\n",
    "        query_numpy_array[i][j] = float(ord(query_data[i][j].value))\n",
    "        #print('q=',query_numpy_array[i][j],'\\n')\n",
    "\n",
    "query_numpy_array = np.delete(query_numpy_array, 0, axis=1) # deleting labels from reature matrix (0-th col of every row)\n",
    "print(query_numpy_array.shape)"
   ]
  },
  {
   "cell_type": "code",
   "execution_count": 19,
   "metadata": {},
   "outputs": [],
   "source": [
    "training_numpy_array = np.zeros(shape=(num_training_data, num_features+1), dtype=np.float32)\n",
    "training_data = list(ws_training.rows)"
   ]
  },
  {
   "cell_type": "code",
   "execution_count": 20,
   "metadata": {},
   "outputs": [
    {
     "name": "stdout",
     "output_type": "stream",
     "text": [
      "(8115, 22)\n"
     ]
    }
   ],
   "source": [
    "for i in range(len(training_data)):\n",
    "    for j in range(len(training_data[i])):\n",
    "        training_numpy_array[i][j] = float(ord(training_data[i][j].value))\n",
    "        \n",
    "training_numpy_array = np.delete(training_numpy_array, 0, axis=1) # deleting labels from reature matrix (0-th col of every row)\n",
    "print(training_numpy_array.shape)"
   ]
  },
  {
   "cell_type": "code",
   "execution_count": 21,
   "metadata": {
    "scrolled": true
   },
   "outputs": [
    {
     "name": "stdout",
     "output_type": "stream",
     "text": [
      "Testing for query data 0 [original class - p ] ...\n",
      "\n",
      "    Class - \u001b[94m\u001b[1mp\u001b[0m with Proximity = 0.0\n",
      "    Classification is \u001b[92m\u001b[1mcorrect!\u001b[0m\n",
      "    Maximum similarity were found in 22 feature(s) for training data 8114 .\n",
      "\n",
      "    query=\n",
      "    f , y , c , f , m , a , c , b , y , e , c , k , y , c , c , p , w , n , n , w , c , d , \n",
      "    training =\n",
      "    f , y , c , f , m , a , c , b , y , e , c , k , y , c , c , p , w , n , n , w , c , d , \n",
      "\n",
      "    -----------------------------------\n",
      "\n",
      "Testing for query data 1 [original class - e ] ...\n",
      "\n",
      "    Class - \u001b[94m\u001b[1me\u001b[0m with Proximity = 0.045454545454545456\n",
      "    Classification is \u001b[92m\u001b[1mcorrect!\u001b[0m\n",
      "    Maximum similarity were found in 21 feature(s) for training data 6999 .\n",
      "\n",
      "    query=\n",
      "    x , s , n , f , n , a , c , b , y , e , ? , s , s , o , o , p , o , o , p , o , v , l , \n",
      "    training =\n",
      "    k , s , n , f , n , a , c , b , y , e , ? , s , s , o , o , p , o , o , p , o , v , l , \n",
      "\n",
      "    -----------------------------------\n",
      "\n",
      "Testing for query data 2 [original class - p ] ...\n",
      "\n",
      "    Class - \u001b[94m\u001b[1mp\u001b[0m with Proximity = 0.045454545454545456\n",
      "    Classification is \u001b[92m\u001b[1mcorrect!\u001b[0m\n",
      "    Maximum similarity were found in 21 feature(s) for training data 5868 .\n",
      "\n",
      "    query=\n",
      "    k , y , n , f , s , f , c , n , b , t , ? , s , k , p , w , p , w , o , e , w , v , l , \n",
      "    training =\n",
      "    x , y , n , f , s , f , c , n , b , t , ? , s , k , p , w , p , w , o , e , w , v , l , \n",
      "\n",
      "    -----------------------------------\n",
      "\n",
      "Testing for query data 3 [original class - p ] ...\n",
      "\n",
      "    Class - \u001b[94m\u001b[1mp\u001b[0m with Proximity = 0.045454545454545456\n",
      "    Classification is \u001b[92m\u001b[1mcorrect!\u001b[0m\n",
      "    Maximum similarity were found in 21 feature(s) for training data 6574 .\n",
      "\n",
      "    query=\n",
      "    k , s , e , f , y , f , c , n , b , t , ? , k , s , p , w , p , w , o , e , w , v , d , \n",
      "    training =\n",
      "    k , s , e , f , y , f , c , n , b , t , ? , k , s , p , w , p , w , o , e , w , v , l , \n",
      "\n",
      "    -----------------------------------\n",
      "\n",
      "Testing for query data 4 [original class - p ] ...\n",
      "\n",
      "    Class - \u001b[94m\u001b[1mp\u001b[0m with Proximity = 0.045454545454545456\n",
      "    Classification is \u001b[92m\u001b[1mcorrect!\u001b[0m\n",
      "    Maximum similarity were found in 21 feature(s) for training data 4884 .\n",
      "\n",
      "    query=\n",
      "    k , y , n , f , f , f , c , n , b , t , ? , k , s , p , w , p , w , o , e , w , v , d , \n",
      "    training =\n",
      "    x , y , n , f , f , f , c , n , b , t , ? , k , s , p , w , p , w , o , e , w , v , d , \n",
      "\n",
      "    -----------------------------------\n",
      "\n",
      "Testing for query data 5 [original class - e ] ...\n",
      "\n",
      "    Class - \u001b[94m\u001b[1me\u001b[0m with Proximity = 0.045454545454545456\n",
      "    Classification is \u001b[92m\u001b[1mcorrect!\u001b[0m\n",
      "    Maximum similarity were found in 21 feature(s) for training data 6994 .\n",
      "\n",
      "    query=\n",
      "    k , s , n , f , n , a , c , b , y , e , ? , s , s , o , o , p , o , o , p , b , c , l , \n",
      "    training =\n",
      "    k , s , n , f , n , a , c , b , y , e , ? , s , s , o , o , p , o , o , p , o , c , l , \n",
      "\n",
      "    -----------------------------------\n",
      "\n",
      "Testing for query data 6 [original class - e ] ...\n",
      "\n",
      "    Class - \u001b[94m\u001b[1me\u001b[0m with Proximity = 0.045454545454545456\n",
      "    Classification is \u001b[92m\u001b[1mcorrect!\u001b[0m\n",
      "    Maximum similarity were found in 21 feature(s) for training data 7037 .\n",
      "\n",
      "    query=\n",
      "    x , s , n , f , n , a , c , b , y , e , ? , s , s , o , o , p , n , o , p , b , v , l , \n",
      "    training =\n",
      "    x , s , n , f , n , a , c , b , y , e , ? , s , s , o , o , p , o , o , p , b , v , l , \n",
      "\n",
      "    -----------------------------------\n",
      "\n",
      "Testing for query data 7 [original class - e ] ...\n",
      "\n",
      "    Class - \u001b[94m\u001b[1me\u001b[0m with Proximity = 0.045454545454545456\n",
      "    Classification is \u001b[92m\u001b[1mcorrect!\u001b[0m\n",
      "    Maximum similarity were found in 21 feature(s) for training data 7251 .\n",
      "\n",
      "    query=\n",
      "    f , s , n , f , n , a , c , b , n , e , ? , s , s , o , o , p , o , o , p , b , c , l , \n",
      "    training =\n",
      "    f , s , n , f , n , a , c , b , n , e , ? , s , s , o , o , p , o , o , p , n , c , l , \n",
      "\n",
      "    -----------------------------------\n",
      "\n",
      "Testing for query data 8 [original class - p ] ...\n",
      "\n",
      "    Class - \u001b[94m\u001b[1mp\u001b[0m with Proximity = 0.045454545454545456\n",
      "    Classification is \u001b[92m\u001b[1mcorrect!\u001b[0m\n",
      "    Maximum similarity were found in 21 feature(s) for training data 5155 .\n",
      "\n",
      "    query=\n",
      "    k , y , n , f , y , f , c , n , b , t , ? , s , k , w , w , p , w , o , e , w , v , l , \n",
      "    training =\n",
      "    x , y , n , f , y , f , c , n , b , t , ? , s , k , w , w , p , w , o , e , w , v , l , \n",
      "\n",
      "    -----------------------------------\n",
      "\n",
      "Testing for query data 9 [original class - e ] ...\n",
      "\n",
      "    Class - \u001b[94m\u001b[1me\u001b[0m with Proximity = 0.045454545454545456\n",
      "    Classification is \u001b[92m\u001b[1mcorrect!\u001b[0m\n",
      "    Maximum similarity were found in 21 feature(s) for training data 6994 .\n",
      "\n",
      "    query=\n",
      "    x , s , n , f , n , a , c , b , y , e , ? , s , s , o , o , p , o , o , p , o , c , l , \n",
      "    training =\n",
      "    k , s , n , f , n , a , c , b , y , e , ? , s , s , o , o , p , o , o , p , o , c , l , \n",
      "\n",
      "    -----------------------------------\n",
      "\n",
      "10  out of 10 are classified correctly!\n",
      "Classification accuracy = \u001b[94m\u001b[1m100.0%\u001b[0m\n",
      "Time elasped = 18.615476974337785 sec(s)\n"
     ]
    }
   ],
   "source": [
    "#start = timer()\n",
    "total_correct_classification = 0\n",
    "for query_data in range(num_query_data): #range(4,5): #\n",
    "    true_label = query_labels[query_data]\n",
    "    proximity_list = []\n",
    "    max_current_similarity = 0\n",
    "    max_features_matched_for = -1 #index of training data\n",
    "    \n",
    "    print('Testing for query data',query_data,'[original class -',true_label,']','...')\n",
    "    for training_data in range(num_training_data): #range(5000) #range(5000,7001):#\n",
    "        \n",
    "        current_similarity = 0\n",
    "        for query_feature,training_feature in zip(query_numpy_array[query_data],training_numpy_array[training_data]):\n",
    "            if query_feature==training_feature:\n",
    "                current_similarity += 1\n",
    "        \n",
    "        if max_current_similarity < current_similarity:\n",
    "            max_current_similarity = current_similarity\n",
    "            max_features_matched_for = training_data\n",
    "        \n",
    "        proximity = (num_features - current_similarity) / num_features\n",
    "        proximity_list.append(proximity)\n",
    "\n",
    "    derived_label = ''\n",
    "    for index in range(len(proximity_list)):\n",
    "        if proximity_list[index]==min(proximity_list):\n",
    "            derived_label = training_labels[index]  \n",
    "    print('\\n    Class - '+'\\033[94m'+'\\033[1m'+str(derived_label)+'\\033[0m'+' with Proximity = '+str(min(proximity_list)))\n",
    "\n",
    "    if true_label==derived_label:\n",
    "        total_correct_classification += 1\n",
    "        print('    Classification is '+'\\033[92m'+'\\033[1m'+'correct!'+'\\033[0m')\n",
    "    else:\n",
    "        print('    Classification is '+'\\033[91m'+'\\033[1m'+'wrong!'+'\\033[0m')\n",
    "    \n",
    "    if max_features_matched_for > -1:\n",
    "        print('    Maximum similarity were found in',max_current_similarity,\\\n",
    "              'feature(s) for training data',max_features_matched_for,'.\\n')\n",
    "        print('    query=\\n', end='    ')\n",
    "        [print(chr(i),', ',end = '') for i in query_numpy_array[query_data]]\n",
    "        print('\\n    training =\\n', end='    ')\n",
    "        [print(chr(i),', ',end = '') for i in training_numpy_array[max_features_matched_for]]\n",
    "        print('\\n')\n",
    "        \n",
    "    print('    -----------------------------------\\n')\n",
    "    \n",
    "print(total_correct_classification,' out of',num_query_data,'are classified correctly!')\n",
    "print('Classification accuracy = '+'\\033[94m'+'\\033[1m'+str((total_correct_classification/num_query_data)*100)+'%'+'\\033[0m')\n",
    "\n",
    "duration = timer() - start\n",
    "print('Time elasped =',duration,'sec(s)')\n",
    "    "
   ]
  },
  {
   "cell_type": "markdown",
   "metadata": {},
   "source": [
    " Some notes:"
   ]
  },
  {
   "cell_type": "code",
   "execution_count": 22,
   "metadata": {},
   "outputs": [
    {
     "name": "stdout",
     "output_type": "stream",
     "text": [
      "sth\u001b[1m Hello \u001b[0msth\n",
      "sth\u001b[94m Hello \u001b[0msth\n",
      "sth\u001b[94m\u001b[1m Hello \u001b[0msth\n"
     ]
    }
   ],
   "source": [
    "print('sth' + '\\033[1m' + ' Hello ' + '\\033[0m' + 'sth')\n",
    "print('sth' + '\\033[94m' + ' Hello ' + '\\033[0m' + 'sth')\n",
    "print('sth' + '\\033[94m' + '\\033[1m' + ' Hello ' + '\\033[0m'+'sth')"
   ]
  },
  {
   "cell_type": "code",
   "execution_count": 23,
   "metadata": {},
   "outputs": [],
   "source": [
    "#Time elasped = 489.1767821029779 #without @jit\n",
    "#Time elasped = 483.1280999945735 #with @jit\n",
    "#Time elasped = 0.008947741956710208 #with numpy\n",
    "#Time elasped = 0.007173661224927543 #with numpy and zip"
   ]
  },
  {
   "cell_type": "code",
   "execution_count": 24,
   "metadata": {},
   "outputs": [
    {
     "name": "stdout",
     "output_type": "stream",
     "text": [
      "<class 'list'>\n",
      "<class 'numpy.ndarray'>\n"
     ]
    }
   ],
   "source": [
    "import numpy as np\n",
    "l = [1,2,3,4,5]\n",
    "print(type(l))\n",
    "l1 = np.asarray(l)\n",
    "print(type(l1))"
   ]
  },
  {
   "cell_type": "code",
   "execution_count": 25,
   "metadata": {},
   "outputs": [
    {
     "data": {
      "text/plain": [
       "str"
      ]
     },
     "execution_count": 25,
     "metadata": {},
     "output_type": "execute_result"
    }
   ],
   "source": [
    "type(np.asarray(list(ws_query.rows))[0][0].value)"
   ]
  },
  {
   "cell_type": "code",
   "execution_count": 26,
   "metadata": {},
   "outputs": [
    {
     "data": {
      "text/plain": [
       "int"
      ]
     },
     "execution_count": 26,
     "metadata": {},
     "output_type": "execute_result"
    }
   ],
   "source": [
    "type(ord('p'))"
   ]
  },
  {
   "cell_type": "code",
   "execution_count": 27,
   "metadata": {},
   "outputs": [
    {
     "name": "stdout",
     "output_type": "stream",
     "text": [
      "1 ,  1\n",
      "2 ,  2\n",
      "3 ,  3\n",
      "4 ,  4\n"
     ]
    }
   ],
   "source": [
    "x=[1,2,3,4]\n",
    "y=[4,3,2,1]\n",
    "for i,j in zip(x,x):\n",
    "    print(i,', ',j)"
   ]
  },
  {
   "cell_type": "code",
   "execution_count": 28,
   "metadata": {},
   "outputs": [
    {
     "name": "stdout",
     "output_type": "stream",
     "text": [
      "[[ 0.  0.  0.]\n",
      " [ 0.  0.  0.]\n",
      " [ 0.  0.  0.]\n",
      " [ 0.  0.  0.]\n",
      " [ 0.  0.  0.]\n",
      " [ 0.  0.  0.]\n",
      " [ 0.  0.  0.]\n",
      " [ 0.  0.  0.]\n",
      " [ 0.  0.  0.]\n",
      " [ 0.  0.  0.]]\n",
      "[0]\n",
      "0.0\n"
     ]
    }
   ],
   "source": [
    "l = np.zeros(shape=(10,3), dtype=np.float32)\n",
    "print(l)\n",
    "print([0])\n",
    "print(l[0][0])"
   ]
  },
  {
   "cell_type": "code",
   "execution_count": 29,
   "metadata": {},
   "outputs": [
    {
     "name": "stdout",
     "output_type": "stream",
     "text": [
      "8115\n",
      "[ 120.  115.  110.  116.  112.  102.   99.  110.  107.  101.  101.  115.\n",
      "  115.  119.  119.  112.  119.  111.  112.  107.  115.  117.]\n"
     ]
    },
    {
     "data": {
      "text/plain": [
       "(8115, 22)"
      ]
     },
     "execution_count": 29,
     "metadata": {},
     "output_type": "execute_result"
    }
   ],
   "source": [
    "l = len(training_numpy_array)\n",
    "print(l)\n",
    "print(training_numpy_array[0])\n",
    "training_numpy_array.shape"
   ]
  },
  {
   "cell_type": "code",
   "execution_count": 30,
   "metadata": {},
   "outputs": [
    {
     "name": "stdout",
     "output_type": "stream",
     "text": [
      "5\n",
      "i= 1 ; a= 1\n",
      "i= 2 ; a= 2\n",
      "i= 3 ; a= 3\n",
      "i= 4 ; a= 4\n"
     ]
    }
   ],
   "source": [
    "a = [0,1,2,3,4]\n",
    "print(len(a))\n",
    "for i in range(1, len(a)):\n",
    "    print('i=',i,'; a=',a[i])"
   ]
  },
  {
   "cell_type": "code",
   "execution_count": 31,
   "metadata": {},
   "outputs": [
    {
     "name": "stdout",
     "output_type": "stream",
     "text": [
      "[[ 1  2  3  4  5]\n",
      " [ 6  7  8  9  0]\n",
      " [11 22 33 44 55]]\n",
      "(3, 5)\n",
      "[[ 2  3  4  5]\n",
      " [ 7  8  9  0]\n",
      " [22 33 44 55]]\n",
      "(3, 4)\n"
     ]
    }
   ],
   "source": [
    "arr = np.array([[1,2,3,4,5],\n",
    "                [6,7,8,9,0],\n",
    "                [11,22,33,44,55]])\n",
    "print(arr)\n",
    "print(arr.shape)\n",
    "arr = np.delete(arr, 0, axis=1)\n",
    "print(arr)\n",
    "print(arr.shape)"
   ]
  },
  {
   "cell_type": "code",
   "execution_count": null,
   "metadata": {},
   "outputs": [],
   "source": []
  }
 ],
 "metadata": {
  "kernelspec": {
   "display_name": "Python 3",
   "language": "python",
   "name": "python3"
  },
  "language_info": {
   "codemirror_mode": {
    "name": "ipython",
    "version": 3
   },
   "file_extension": ".py",
   "mimetype": "text/x-python",
   "name": "python",
   "nbconvert_exporter": "python",
   "pygments_lexer": "ipython3",
   "version": "3.6.4"
  }
 },
 "nbformat": 4,
 "nbformat_minor": 2
}
